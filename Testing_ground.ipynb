{
  "nbformat": 4,
  "nbformat_minor": 0,
  "metadata": {
    "colab": {
      "provenance": [],
      "authorship_tag": "ABX9TyNssJ2P1854/y/ZfmxyPdBx",
      "include_colab_link": true
    },
    "kernelspec": {
      "name": "python3",
      "display_name": "Python 3"
    },
    "language_info": {
      "name": "python"
    }
  },
  "cells": [
    {
      "cell_type": "markdown",
      "metadata": {
        "id": "view-in-github",
        "colab_type": "text"
      },
      "source": [
        "<a href=\"https://colab.research.google.com/github/kivaturi/python-practice/blob/main/Testing_ground.ipynb\" target=\"_parent\"><img src=\"https://colab.research.google.com/assets/colab-badge.svg\" alt=\"Open In Colab\"/></a>"
      ]
    },
    {
      "cell_type": "code",
      "execution_count": 1,
      "metadata": {
        "colab": {
          "base_uri": "https://localhost:8080/"
        },
        "id": "e3gr9MpnWyaI",
        "outputId": "6012976b-6404-467c-dfdb-9e94c72d2e65"
      },
      "outputs": [
        {
          "output_type": "stream",
          "name": "stdout",
          "text": [
            "Collecting openai\n",
            "  Downloading openai-1.14.3-py3-none-any.whl (262 kB)\n",
            "\u001b[2K     \u001b[90m━━━━━━━━━━━━━━━━━━━━━━━━━━━━━━━━━━━━━━━━\u001b[0m \u001b[32m262.9/262.9 kB\u001b[0m \u001b[31m3.3 MB/s\u001b[0m eta \u001b[36m0:00:00\u001b[0m\n",
            "\u001b[?25hRequirement already satisfied: anyio<5,>=3.5.0 in /usr/local/lib/python3.10/dist-packages (from openai) (3.7.1)\n",
            "Requirement already satisfied: distro<2,>=1.7.0 in /usr/lib/python3/dist-packages (from openai) (1.7.0)\n",
            "Collecting httpx<1,>=0.23.0 (from openai)\n",
            "  Downloading httpx-0.27.0-py3-none-any.whl (75 kB)\n",
            "\u001b[2K     \u001b[90m━━━━━━━━━━━━━━━━━━━━━━━━━━━━━━━━━━━━━━━━\u001b[0m \u001b[32m75.6/75.6 kB\u001b[0m \u001b[31m4.3 MB/s\u001b[0m eta \u001b[36m0:00:00\u001b[0m\n",
            "\u001b[?25hRequirement already satisfied: pydantic<3,>=1.9.0 in /usr/local/lib/python3.10/dist-packages (from openai) (2.6.4)\n",
            "Requirement already satisfied: sniffio in /usr/local/lib/python3.10/dist-packages (from openai) (1.3.1)\n",
            "Requirement already satisfied: tqdm>4 in /usr/local/lib/python3.10/dist-packages (from openai) (4.66.2)\n",
            "Requirement already satisfied: typing-extensions<5,>=4.7 in /usr/local/lib/python3.10/dist-packages (from openai) (4.10.0)\n",
            "Requirement already satisfied: idna>=2.8 in /usr/local/lib/python3.10/dist-packages (from anyio<5,>=3.5.0->openai) (3.6)\n",
            "Requirement already satisfied: exceptiongroup in /usr/local/lib/python3.10/dist-packages (from anyio<5,>=3.5.0->openai) (1.2.0)\n",
            "Requirement already satisfied: certifi in /usr/local/lib/python3.10/dist-packages (from httpx<1,>=0.23.0->openai) (2024.2.2)\n",
            "Collecting httpcore==1.* (from httpx<1,>=0.23.0->openai)\n",
            "  Downloading httpcore-1.0.4-py3-none-any.whl (77 kB)\n",
            "\u001b[2K     \u001b[90m━━━━━━━━━━━━━━━━━━━━━━━━━━━━━━━━━━━━━━━━\u001b[0m \u001b[32m77.8/77.8 kB\u001b[0m \u001b[31m5.7 MB/s\u001b[0m eta \u001b[36m0:00:00\u001b[0m\n",
            "\u001b[?25hCollecting h11<0.15,>=0.13 (from httpcore==1.*->httpx<1,>=0.23.0->openai)\n",
            "  Downloading h11-0.14.0-py3-none-any.whl (58 kB)\n",
            "\u001b[2K     \u001b[90m━━━━━━━━━━━━━━━━━━━━━━━━━━━━━━━━━━━━━━━━\u001b[0m \u001b[32m58.3/58.3 kB\u001b[0m \u001b[31m5.1 MB/s\u001b[0m eta \u001b[36m0:00:00\u001b[0m\n",
            "\u001b[?25hRequirement already satisfied: annotated-types>=0.4.0 in /usr/local/lib/python3.10/dist-packages (from pydantic<3,>=1.9.0->openai) (0.6.0)\n",
            "Requirement already satisfied: pydantic-core==2.16.3 in /usr/local/lib/python3.10/dist-packages (from pydantic<3,>=1.9.0->openai) (2.16.3)\n",
            "Installing collected packages: h11, httpcore, httpx, openai\n",
            "Successfully installed h11-0.14.0 httpcore-1.0.4 httpx-0.27.0 openai-1.14.3\n"
          ]
        }
      ],
      "source": [
        "%pip install openai --upgrade"
      ]
    },
    {
      "cell_type": "code",
      "source": [
        "import getpass\n",
        "from openai import OpenAI\n",
        "\n",
        "secret_key = getpass.getpass(\"Enter your secret api key here:\")"
      ],
      "metadata": {
        "colab": {
          "base_uri": "https://localhost:8080/"
        },
        "id": "ZoemuusJXAya",
        "outputId": "1be3f51e-c918-4912-9cc6-5950b2dc6798"
      },
      "execution_count": 2,
      "outputs": [
        {
          "name": "stdout",
          "output_type": "stream",
          "text": [
            "Enter your secret api key here:··········\n"
          ]
        }
      ]
    },
    {
      "cell_type": "code",
      "source": [
        "client = OpenAI(api_key=secret_key)"
      ],
      "metadata": {
        "id": "bgXAXefuXTl2"
      },
      "execution_count": 3,
      "outputs": []
    },
    {
      "cell_type": "code",
      "source": [
        "# return response from openai:\n",
        "def submit_prompt(prompt):\n",
        "    response = client.chat.completions.create(\n",
        "        model=\"gpt-4-turbo-preview\",\n",
        "        messages=[{\"role\": \"system\", \"content\": prompt}],\n",
        "        temperature=0,\n",
        "        max_tokens=1025,\n",
        "    )\n",
        "\n",
        "    # Parse out the response\n",
        "    response_text = response.choices[0].message.content\n",
        "    return response_text\n",
        "\n",
        "# test for successful connection\n",
        "print(\"---\")\n",
        "print(submit_prompt(\"Hey GPT are you ready?\"))"
      ],
      "metadata": {
        "colab": {
          "base_uri": "https://localhost:8080/"
        },
        "id": "GY4PJYi9aXCw",
        "outputId": "469a5075-c919-4648-b09e-47a1b96f8a67"
      },
      "execution_count": 4,
      "outputs": [
        {
          "output_type": "stream",
          "name": "stdout",
          "text": [
            "---\n",
            "Yes, I'm ready! How can I assist you today?\n"
          ]
        }
      ]
    },
    {
      "cell_type": "code",
      "source": [
        "# List of Country-Company name pairs\n",
        "company_list = [\n",
        "        \"Australia-Coles Group\",\n",
        "        \"Singapore-Singtel\",\n",
        "        \"China-Alibaba\",\n",
        "            ]"
      ],
      "metadata": {
        "id": "nXdEJ3HbvFnI"
      },
      "execution_count": 5,
      "outputs": []
    },
    {
      "cell_type": "code",
      "source": [
        "# Initialize an empty DataFrame\n",
        "import pandas as pd\n",
        "df = pd.DataFrame(columns=[\"Company\", \"Output\"])"
      ],
      "metadata": {
        "id": "-rxBqeKxvMwj"
      },
      "execution_count": 6,
      "outputs": []
    },
    {
      "cell_type": "code",
      "source": [
        "for country_company in company_list:\n",
        "    # Extract the company name\n",
        "    country, company_name = country_company.split('-')\n",
        "\n",
        "    # Create the prompt with the current company name\n",
        "    prompt = f\"\"\"\n",
        "    The user will provide a company name. Then you will carry out the following steps in order./\n",
        "    1. First identify a list of CEOs of {company_name} who served as CEO for every year between 2000-2023./\n",
        "    2. Then create a frequency count of the CEO names for the time period.\n",
        "    3. Then create a table with two columns - (1) Name of the CEO, and (2) Frequency count./\n",
        "    3. Finally calculate an average tenure by taking the mean of the frequency count column.\n",
        "    \"\"\"\n",
        "\n",
        "    # Simulate submitting the prompt and getting a response\n",
        "    response = submit_prompt(prompt)\n",
        "\n",
        "    # Add the company name and the response to the DataFrame\n",
        "    df = pd.concat([df, pd.DataFrame({\"Company\": [company_name], \"Country\": [country], \"Output\": [response]})], ignore_index=True)\n"
      ],
      "metadata": {
        "id": "5flEoewUvh-i"
      },
      "execution_count": 7,
      "outputs": []
    },
    {
      "cell_type": "code",
      "source": [
        "print (df)"
      ],
      "metadata": {
        "colab": {
          "base_uri": "https://localhost:8080/"
        },
        "id": "kfsZWrvDv99Q",
        "outputId": "bcfdfcd9-b2f2-4666-841d-215818adf8c0"
      },
      "execution_count": 8,
      "outputs": [
        {
          "output_type": "stream",
          "name": "stdout",
          "text": [
            "       Company                                             Output    Country\n",
            "0  Coles Group  To provide accurate and comprehensive informat...  Australia\n",
            "1      Singtel  To address your request, let's first identify ...  Singapore\n",
            "2      Alibaba  To address your request, let's start by identi...      China\n"
          ]
        }
      ]
    },
    {
      "cell_type": "code",
      "source": [
        "print(df.iat[2,1])"
      ],
      "metadata": {
        "colab": {
          "base_uri": "https://localhost:8080/"
        },
        "id": "8MsYOGWh1BbW",
        "outputId": "ed875491-99ea-48c8-f7c7-b4a4191793a1"
      },
      "execution_count": 10,
      "outputs": [
        {
          "output_type": "stream",
          "name": "stdout",
          "text": [
            "To address your request, let's start by identifying the CEOs of Alibaba from 2000 to 2023 and then proceed with the subsequent steps.\n",
            "\n",
            "### CEOs of Alibaba (2000-2023)\n",
            "\n",
            "1. **Jack Ma (2000-2013)**: Jack Ma is the founder of Alibaba and served as CEO from its inception in 1999 until he stepped down in 2013.\n",
            "2. **Jonathan Lu (2013-2015)**: After Jack Ma, Jonathan Lu took over as CEO.\n",
            "3. **Daniel Zhang (2015-2023)**: Daniel Zhang succeeded Jonathan Lu in 2015 and has been serving as CEO since then.\n",
            "\n",
            "### Frequency Count of CEO Names\n",
            "\n",
            "- Jack Ma: 14 years (2000-2013)\n",
            "- Jonathan Lu: 2 years (2013-2015)\n",
            "- Daniel Zhang: 8 years (2015-2023)\n",
            "\n",
            "### Table: CEO Tenure Frequency\n",
            "\n",
            "| Name of the CEO | Frequency Count |\n",
            "|-----------------|-----------------|\n",
            "| Jack Ma         | 14              |\n",
            "| Jonathan Lu     | 2               |\n",
            "| Daniel Zhang    | 8               |\n",
            "\n",
            "### Average Tenure Calculation\n",
            "\n",
            "To calculate the average tenure of Alibaba's CEOs from 2000 to 2023, we sum the frequency counts and divide by the number of CEOs.\n",
            "\n",
            "\\[ \\text{Average Tenure} = \\frac{\\text{Sum of Frequency Counts}}{\\text{Number of CEOs}} \\]\n",
            "\n",
            "\\[ \\text{Average Tenure} = \\frac{14 + 2 + 8}{3} \\]\n",
            "\n",
            "\\[ \\text{Average Tenure} = \\frac{24}{3} \\]\n",
            "\n",
            "\\[ \\text{Average Tenure} = 8 \\text{ years} \\]\n",
            "\n",
            "Therefore, the average tenure of Alibaba's CEOs from 2000 to 2023 is 8 years.\n"
          ]
        }
      ]
    },
    {
      "cell_type": "code",
      "source": [
        "df.to_csv('CEO_analysis.csv', index=False)\n"
      ],
      "metadata": {
        "id": "XFlHDT04dZQd"
      },
      "execution_count": null,
      "outputs": []
    }
  ]
}